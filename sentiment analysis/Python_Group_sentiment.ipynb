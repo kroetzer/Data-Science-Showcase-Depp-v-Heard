{
 "cells": [
  {
   "cell_type": "code",
   "execution_count": 1,
   "metadata": {},
   "outputs": [],
   "source": [
    "import pandas as pd\n",
    "import numpy as np\n",
    "import matplotlib.pyplot as plt\n",
    "import seaborn as sns\n",
    "import itertools\n",
    "import collections\n",
    "from textblob import TextBlob\n",
    "\n",
    "import re\n",
    "from nltk.tokenize import word_tokenize, sent_tokenize\n",
    "from nltk.corpus import stopwords\n",
    "from nltk.stem import PorterStemmer\n",
    "import nltk"
   ]
  },
  {
   "cell_type": "code",
   "execution_count": 2,
   "metadata": {},
   "outputs": [
    {
     "name": "stdout",
     "output_type": "stream",
     "text": [
      "The polarity rate of tweets with sentiment analysis using the module TextBlob:\n",
      "\n",
      "Month: [positive(%)] [neutral(%)] [negative(%)]\n",
      "\n"
     ]
    }
   ],
   "source": [
    "# Open csv\n",
    "import csv\n",
    "file = open('april22')\n",
    "csvapril = csv.reader(file)\n",
    "\n",
    "\n",
    "#Sentiment analysis with the module TextBlob\n",
    "\n",
    "# Create a classifier to analyze the polarity of each tweet\n",
    "def analize_sentiment(tweet):\n",
    "    analysis = TextBlob(tweet)\n",
    "    if analysis.sentiment.polarity > 0:\n",
    "        return 1\n",
    "    elif analysis.sentiment.polarity == 0:\n",
    "        return 0\n",
    "    else:\n",
    "        return -1\n",
    "    \n",
    "\n",
    "    \n",
    "def textbob_all(tweet):\n",
    "    with open(tweet) as f:\n",
    "        reader = csv.reader(f, delimiter=',')\n",
    "        next(reader)     \n",
    "        text=[]\n",
    "        for t in reader:    \n",
    "            text.append(t[1])\n",
    "        ana = []\n",
    "        for tweet in text:\n",
    "            ana.append(analize_sentiment(tweet)) # Create a new column with the result of sentiment analysis\n",
    "        pos_tweet=[]\n",
    "        neu_tweet=[]\n",
    "        neg_tweet=[]\n",
    "        for i,t in enumerate(text):\n",
    "            if ana[i] > 0:\n",
    "                pos_tweet.append(t) # List of positive tweets\n",
    "            if ana[i] ==0:\n",
    "                neu_tweet.append(t) # List of neutral tweets\n",
    "            if ana[i] < 0:\n",
    "                neg_tweet.append(t) # List of negative tweets\n",
    "        \n",
    "        return [round(len(pos_tweet)*100/len(text),2), # Ratio of positive tweets\n",
    "                round(len(neu_tweet)*100/len(text),2),  # Ratio of neutral tweets\n",
    "                round(len(neg_tweet)*100/len(text),2)] # Ratio of negative tweets\n",
    "\n",
    "print(\"The polarity rate of tweets with sentiment analysis using the module TextBlob:\\n\")\n",
    "print(\"Month:\",\"[positive(%)]\", \"[neutral(%)]\", \"[negative(%)]\\n\")"
   ]
  },
  {
   "cell_type": "code",
   "execution_count": 3,
   "metadata": {},
   "outputs": [],
   "source": [
    "# Read new data\n",
    "april1  = pd.read_csv('clean-hastag/team_April1_clean.csv')\n",
    "april22 = pd.read_csv('clean-hastag/team_April22_clean.csv')\n",
    "may5    = pd.read_csv('clean-hastag/team_May5_clean.csv')\n",
    "june1   = pd.read_csv('clean-hastag/team_June1_clean.csv')"
   ]
  },
  {
   "cell_type": "code",
   "execution_count": 4,
   "metadata": {},
   "outputs": [],
   "source": [
    "april22[april22['Support_JD'] == 1].to_csv('April22_Support_JD')\n",
    "april22[april22['Support_AH'] == 1].to_csv('April22_Support_AH')\n",
    "\n",
    "april1[april1['Support_JD'] == 1].to_csv('April1_Support_JD')\n",
    "april1[april1['Support_AH'] == 1].to_csv('April1_Support_AH')\n",
    "\n",
    "may5[may5['Support_JD'] == 1].to_csv('May5_Support_JD')\n",
    "may5[may5['Support_AH'] == 1].to_csv('May5_Support_AH')\n",
    "\n",
    "june1[june1['Support_JD'] == 1].to_csv('June1_Support_JD')\n",
    "june1[june1['Support_AH'] == 1].to_csv('June1_Support_AH')"
   ]
  },
  {
   "cell_type": "code",
   "execution_count": 5,
   "metadata": {},
   "outputs": [
    {
     "name": "stdout",
     "output_type": "stream",
     "text": [
      "{'April1_Support_JD': [0.0, 100.0, 0.0]} \n",
      "\n",
      "{'April22_Support_JD': [0.0, 100.0, 0.0]} \n",
      "\n",
      "{'May5_Support_JD': [0.0, 100.0, 0.0]} \n",
      "\n",
      "{'June1_Support_JD': [0.0, 100.0, 0.0]} \n",
      "\n"
     ]
    }
   ],
   "source": [
    "month_JD = [\"April1_Support_JD\", \"April22_Support_JD\", \"May5_Support_JD\", \"June1_Support_JD\"]\n",
    "\n",
    "for t in month_JD:\n",
    "    print({t: textbob_all(t)}, \"\\n\")"
   ]
  },
  {
   "cell_type": "code",
   "execution_count": 6,
   "metadata": {},
   "outputs": [
    {
     "name": "stdout",
     "output_type": "stream",
     "text": [
      "{'April1_Support_JD': [0.0, 100.0, 0.0]} \n",
      "\n",
      "{'April22_Support_JD': [0.0, 100.0, 0.0]} \n",
      "\n",
      "{'May5_Support_JD': [0.0, 100.0, 0.0]} \n",
      "\n",
      "{'June1_Support_JD': [0.0, 100.0, 0.0]} \n",
      "\n"
     ]
    }
   ],
   "source": [
    "month_AH = [\"April1_Support_AH\", \"April22_Support_AH\", \"May5_Support_AH\", \"June1_Support_AH\"]\n",
    "\n",
    "for t in month_JD:\n",
    "    print({t: textbob_all(t)}, \"\\n\")"
   ]
  },
  {
   "cell_type": "code",
   "execution_count": null,
   "metadata": {},
   "outputs": [],
   "source": []
  }
 ],
 "metadata": {
  "kernelspec": {
   "display_name": "Python 3.9.7 ('base')",
   "language": "python",
   "name": "python3"
  },
  "language_info": {
   "codemirror_mode": {
    "name": "ipython",
    "version": 3
   },
   "file_extension": ".py",
   "mimetype": "text/x-python",
   "name": "python",
   "nbconvert_exporter": "python",
   "pygments_lexer": "ipython3",
   "version": "3.9.7"
  },
  "orig_nbformat": 4,
  "vscode": {
   "interpreter": {
    "hash": "49bd3536af8260385edd6aa443a69c3e5ff45a4623f797a284a0076033339daf"
   }
  }
 },
 "nbformat": 4,
 "nbformat_minor": 2
}
