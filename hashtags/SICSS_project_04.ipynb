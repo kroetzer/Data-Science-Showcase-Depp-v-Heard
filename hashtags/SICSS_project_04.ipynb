{
  "nbformat": 4,
  "nbformat_minor": 0,
  "metadata": {
    "colab": {
      "name": "SICSS project 04.ipynb",
      "provenance": [],
      "collapsed_sections": []
    },
    "kernelspec": {
      "name": "python3",
      "display_name": "Python 3"
    },
    "language_info": {
      "name": "python"
    }
  },
  "cells": [
    {
      "cell_type": "code",
      "execution_count": 1,
      "metadata": {
        "id": "pO1BNKOibtCi"
      },
      "outputs": [],
      "source": [
        "import pandas as pd\n",
        "import numpy as np"
      ]
    },
    {
      "cell_type": "code",
      "source": [
        "rel_add='/content/drive/MyDrive/Amber_Heard_Johnny_Depp_data/Hashtags/tophashtags-raw/'"
      ],
      "metadata": {
        "id": "kR9KC7fzfLuy"
      },
      "execution_count": 15,
      "outputs": []
    },
    {
      "cell_type": "code",
      "source": [
        "#make empty lists for each group\n",
        "Hashtag_dict={'Support_JD':[],'Support_AH':[],'other':[],'Hostile_AH':[],'Hostile_JD':[]}\n",
        "#do all for all data:\n",
        "for name in['tophashtags_april1.csv','tophashtags_april22.csv','tophashtags_june1.csv','tophashtags_may5.csv']:\n",
        "  data=pd.read_csv(rel_add+name,delimiter=';')\n",
        "  # a mistake in column names should be fixed\n",
        "  data.rename({'Supprt_AH': 'Support_AH'}, axis='columns',inplace=True)\n",
        "  #find mark of the hashtag\n",
        "  data['mark']=\"\"\n",
        "  for i in range(len(data)):\n",
        "    for group in list(data.columns)[2:]:\n",
        "      if data[group][i]==1:\n",
        "            value=group\n",
        "    data['mark'][i]=value\n",
        "  #only gather the 2 columns\n",
        "  data=data[['hashtags','mark']]\n",
        "  #add them to the dictionary\n",
        "  for i in range(len(data)):\n",
        "    hash=data['hashtags'].iloc[i]\n",
        "    category=data['mark'].iloc[i]\n",
        "    if hash not in Hashtag_dict[category]:\n",
        "      Hashtag_dict[category].append(hash)"
      ],
      "metadata": {
        "colab": {
          "base_uri": "https://localhost:8080/"
        },
        "id": "d5Glgay6dlNL",
        "outputId": "c3ae27f3-8a4f-4e54-dd2b-fd5740c49ba6"
      },
      "execution_count": 16,
      "outputs": [
        {
          "output_type": "stream",
          "name": "stderr",
          "text": [
            "/usr/local/lib/python3.7/dist-packages/ipykernel_launcher.py:14: SettingWithCopyWarning: \n",
            "A value is trying to be set on a copy of a slice from a DataFrame\n",
            "\n",
            "See the caveats in the documentation: https://pandas.pydata.org/pandas-docs/stable/user_guide/indexing.html#returning-a-view-versus-a-copy\n",
            "  \n"
          ]
        }
      ]
    },
    {
      "cell_type": "code",
      "source": [
        "for category in Hashtag_dict.keys():\n",
        "  with open(rel_add+category+'.txt', 'w') as f: #open the file\n",
        "     f.write('\\n'.join(Hashtag_dict[category])) #put the lines to a variable."
      ],
      "metadata": {
        "id": "MPbLmn73fi6p"
      },
      "execution_count": 22,
      "outputs": []
    }
  ]
}