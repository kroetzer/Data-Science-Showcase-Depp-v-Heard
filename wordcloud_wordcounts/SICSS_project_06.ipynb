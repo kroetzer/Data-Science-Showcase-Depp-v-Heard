{
  "nbformat": 4,
  "nbformat_minor": 0,
  "metadata": {
    "colab": {
      "name": "SICSS project 06.ipynb",
      "provenance": [],
      "collapsed_sections": []
    },
    "kernelspec": {
      "name": "python3",
      "display_name": "Python 3"
    },
    "language_info": {
      "name": "python"
    }
  },
  "cells": [
    {
      "cell_type": "code",
      "execution_count": 2,
      "metadata": {
        "id": "V5H0uU604I8l"
      },
      "outputs": [],
      "source": [
        "import numpy as np\n",
        "import pandas as pd\n",
        "pd.set_option('mode.chained_assignment',None )\n",
        "from tqdm import tqdm\n",
        "from wordcloud import WordCloud\n",
        "from matplotlib import pyplot as plt"
      ]
    },
    {
      "cell_type": "code",
      "source": [
        "from google.colab import drive\n",
        "drive.mount('/content/drive')"
      ],
      "metadata": {
        "colab": {
          "base_uri": "https://localhost:8080/"
        },
        "id": "HasMK6R163wm",
        "outputId": "67c8e0dd-de32-46ba-e29d-41788324a5a4"
      },
      "execution_count": 3,
      "outputs": [
        {
          "output_type": "stream",
          "name": "stdout",
          "text": [
            "Drive already mounted at /content/drive; to attempt to forcibly remount, call drive.mount(\"/content/drive\", force_remount=True).\n"
          ]
        }
      ]
    },
    {
      "cell_type": "code",
      "source": [
        "save_add='/content/drive/MyDrive/Amber_Heard_Johnny_Depp_data/Wordclouds/'\n",
        "rel_add='/content/drive/MyDrive/Amber_Heard_Johnny_Depp_data/Cleaned + Hashtags data/'\n",
        "for data in ['team_April1_clean.csv','team_April22_clean.csv','team_May5_clean.csv','team_June1_clean.csv']:\n",
        "  print(data, 'started')\n",
        "  df=pd.read_csv(rel_add+data, dtype = {'id':str, 'author_id':str, 'in_reply_to_user_id':str})\n",
        "  fig,ax=plt.subplots(nrows=1, ncols=3,figsize=(12,4),dpi=800)\n",
        "  colors=[\"Blues\",'Reds','Greys']\n",
        "  for i,team in enumerate(['Team_Johnny', 'Team_Amber','unclassified' ]):\n",
        "    temp=df[(df['team']==team)&(df['text_clean'].notna())]\n",
        "    text = temp['text_clean_sentiment'].values \n",
        "    wordcloud = WordCloud(background_color='white',width=1600, height=1200, max_words=20, colormap=colors[i]).generate(str(text).replace('\\'',''))\n",
        "    ax[i].imshow(wordcloud,aspect='auto')\n",
        "    ax[i].set_axis_off()\n",
        "    ax[i].set_title('Team: '+team)\n",
        "  name=data.split('_')[1]\n",
        "  fig.suptitle(name, fontsize=20)\n",
        "  fig.tight_layout()\n",
        "  fig.subplots_adjust(top=0.85)\n",
        "  fig.savefig(save_add+name + \"_wordcloud.png\", dpi=700)"
      ],
      "metadata": {
        "id": "ckGvJRpu4OK7"
      },
      "execution_count": null,
      "outputs": []
    }
  ]
}