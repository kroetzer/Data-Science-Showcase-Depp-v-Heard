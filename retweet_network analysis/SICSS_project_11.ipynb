{
  "nbformat": 4,
  "nbformat_minor": 0,
  "metadata": {
    "colab": {
      "name": "SICSS project 11.ipynb",
      "provenance": []
    },
    "kernelspec": {
      "name": "python3",
      "display_name": "Python 3"
    },
    "language_info": {
      "name": "python"
    }
  },
  "cells": [
    {
      "cell_type": "code",
      "source": [
        "import numpy as np \n",
        "import pandas as pd\n",
        "from datetime import datetime, timedelta\n",
        "from matplotlib import pyplot as plt\n",
        "from scipy import stats\n",
        "import networkx as nx"
      ],
      "metadata": {
        "id": "axapOusAY6-8"
      },
      "execution_count": 1,
      "outputs": []
    },
    {
      "cell_type": "code",
      "source": [
        "#make retweet network and reply network for all\n",
        "rel_address='/content/drive/MyDrive/Amber_Heard_Johnny_Depp_data/Cleaned + Hashtags data//'\n",
        "add='/content/drive/MyDrive/Amber_Heard_Johnny_Depp_data/Networks//'\n",
        "for data in ['team_April1_clean.csv','team_April22_clean.csv','team_May5_clean.csv','team_June1_clean.csv']:\n",
        "  df = pd.read_csv(rel_address+data, dtype = {'id':str, 'author_id':str, 'in_reply_to_user_id':str})\n",
        "  reply_network=df[df['in_reply_to_user_id'].notna()].reset_index(drop=True)\n",
        "  reply_network.rename(columns={'author_id': 'source', 'in_reply_to_user_id':'target'}, inplace=True)\n",
        "  attribute_df=reply_network[['team','subgroup','source']].drop_duplicates(subset=['source'], ignore_index=True).set_index('source').to_dict('index')\n",
        "  reply_network=reply_network.groupby(['source', 'target']).size().reset_index(name='counts')\n",
        "  temp=[(reply_network.target[i] , reply_network.source[i] , reply_network.counts[i]) for i in range(len(reply_network))]\n",
        "  G = nx.DiGraph()\n",
        "  G.add_weighted_edges_from(temp)\n",
        "  nx.set_node_attributes(G, attribute_df)\n",
        "  nx.write_gexf(G,add+'reply_'+data.split('_')[1]+'.gexf')\n",
        "   "
      ],
      "metadata": {
        "id": "1-g9r2nOZqK1"
      },
      "execution_count": 68,
      "outputs": []
    }
  ]
}